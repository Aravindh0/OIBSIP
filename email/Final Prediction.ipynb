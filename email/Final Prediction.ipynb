{
 "cells": [
  {
   "cell_type": "markdown",
   "id": "de95c747",
   "metadata": {},
   "source": [
    "# Final Prediction"
   ]
  },
  {
   "cell_type": "code",
   "execution_count": 1,
   "id": "d49ccdee",
   "metadata": {},
   "outputs": [],
   "source": [
    "import joblib as jb\n",
    "model=jb.load('files/train/model/lor.pkl')\n",
    "encode=jb.load('files/train/model/train_encode_model.pkl')"
   ]
  },
  {
   "cell_type": "code",
   "execution_count": 2,
   "id": "d93a7bfa",
   "metadata": {},
   "outputs": [],
   "source": [
    "import pandas as pd\n",
    "import numpy as np\n",
    "from sklearn.metrics import confusion_matrix,classification_report,ConfusionMatrixDisplay\n",
    "\n",
    "import warnings\n",
    "warnings.filterwarnings('ignore')"
   ]
  },
  {
   "cell_type": "code",
   "execution_count": 3,
   "id": "6d006cb6",
   "metadata": {},
   "outputs": [],
   "source": [
    "def flow(x_path,y_path):\n",
    "    \n",
    "    #Read\n",
    "    x_test=pd.read_csv(x_path)\n",
    "    y_test=pd.read_csv(y_path)\n",
    "    \n",
    "    #encoding\n",
    "    x_test_reshape=np.array(x_test).reshape(-1, 1)\n",
    "    x_encode=encode.transform(x_test_reshape)\n",
    "    x_test_encode=pd.DataFrame(x_encode,columns=['v2'])\n",
    "    y_test_encode=y_test.replace({'ham':1,'spam':0})\n",
    "    \n",
    "    #prediction\n",
    "    y_pred=pd.DataFrame(model.predict(x_test_encode))\n",
    "    \n",
    "    #Metrics\n",
    "    report=classification_report(y_pred,y_test_encode)\n",
    "    cm=confusion_matrix(y_pred,y_test_encode)\n",
    "    disp=ConfusionMatrixDisplay(confusion_matrix=cm)\n",
    "    \n",
    "    return y_pred,report,cm,disp"
   ]
  },
  {
   "cell_type": "code",
   "execution_count": 4,
   "id": "5b23b69f",
   "metadata": {},
   "outputs": [],
   "source": [
    "y_pred,report,cm,disp=flow('test data/x.csv','test data/y.csv')"
   ]
  },
  {
   "cell_type": "code",
   "execution_count": 5,
   "id": "80995746",
   "metadata": {},
   "outputs": [
    {
     "data": {
      "text/html": [
       "<div>\n",
       "<style scoped>\n",
       "    .dataframe tbody tr th:only-of-type {\n",
       "        vertical-align: middle;\n",
       "    }\n",
       "\n",
       "    .dataframe tbody tr th {\n",
       "        vertical-align: top;\n",
       "    }\n",
       "\n",
       "    .dataframe thead th {\n",
       "        text-align: right;\n",
       "    }\n",
       "</style>\n",
       "<table border=\"1\" class=\"dataframe\">\n",
       "  <thead>\n",
       "    <tr style=\"text-align: right;\">\n",
       "      <th></th>\n",
       "      <th>0</th>\n",
       "    </tr>\n",
       "  </thead>\n",
       "  <tbody>\n",
       "    <tr>\n",
       "      <th>0</th>\n",
       "      <td>1</td>\n",
       "    </tr>\n",
       "    <tr>\n",
       "      <th>1</th>\n",
       "      <td>1</td>\n",
       "    </tr>\n",
       "    <tr>\n",
       "      <th>2</th>\n",
       "      <td>1</td>\n",
       "    </tr>\n",
       "    <tr>\n",
       "      <th>3</th>\n",
       "      <td>1</td>\n",
       "    </tr>\n",
       "    <tr>\n",
       "      <th>4</th>\n",
       "      <td>1</td>\n",
       "    </tr>\n",
       "    <tr>\n",
       "      <th>...</th>\n",
       "      <td>...</td>\n",
       "    </tr>\n",
       "    <tr>\n",
       "      <th>1667</th>\n",
       "      <td>1</td>\n",
       "    </tr>\n",
       "    <tr>\n",
       "      <th>1668</th>\n",
       "      <td>1</td>\n",
       "    </tr>\n",
       "    <tr>\n",
       "      <th>1669</th>\n",
       "      <td>1</td>\n",
       "    </tr>\n",
       "    <tr>\n",
       "      <th>1670</th>\n",
       "      <td>1</td>\n",
       "    </tr>\n",
       "    <tr>\n",
       "      <th>1671</th>\n",
       "      <td>1</td>\n",
       "    </tr>\n",
       "  </tbody>\n",
       "</table>\n",
       "<p>1672 rows × 1 columns</p>\n",
       "</div>"
      ],
      "text/plain": [
       "      0\n",
       "0     1\n",
       "1     1\n",
       "2     1\n",
       "3     1\n",
       "4     1\n",
       "...  ..\n",
       "1667  1\n",
       "1668  1\n",
       "1669  1\n",
       "1670  1\n",
       "1671  1\n",
       "\n",
       "[1672 rows x 1 columns]"
      ]
     },
     "execution_count": 5,
     "metadata": {},
     "output_type": "execute_result"
    }
   ],
   "source": [
    "y_pred"
   ]
  },
  {
   "cell_type": "code",
   "execution_count": 6,
   "id": "abc8f9ab",
   "metadata": {},
   "outputs": [
    {
     "name": "stdout",
     "output_type": "stream",
     "text": [
      "              precision    recall  f1-score   support\n",
      "\n",
      "           0       0.00      0.00      0.00         0\n",
      "           1       1.00      0.87      0.93      1672\n",
      "\n",
      "    accuracy                           0.87      1672\n",
      "   macro avg       0.50      0.43      0.47      1672\n",
      "weighted avg       1.00      0.87      0.93      1672\n",
      "\n"
     ]
    }
   ],
   "source": [
    "print(report)"
   ]
  },
  {
   "cell_type": "code",
   "execution_count": 7,
   "id": "6a23d16c",
   "metadata": {},
   "outputs": [
    {
     "data": {
      "text/plain": [
       "<sklearn.metrics._plot.confusion_matrix.ConfusionMatrixDisplay at 0x1dc295f9e40>"
      ]
     },
     "execution_count": 7,
     "metadata": {},
     "output_type": "execute_result"
    },
    {
     "data": {
      "image/png": "[encoded data removed]",
      "text/plain": [
       "<Figure size 640x480 with 2 Axes>"
      ]
     },
     "metadata": {},
     "output_type": "display_data"
    }
   ],
   "source": [
    "disp.plot()"
   ]
  },
  {
   "cell_type": "code",
   "execution_count": null,
   "id": "bb071518",
   "metadata": {},
   "outputs": [],
   "source": []
  }
 ],
 "metadata": {
  "kernelspec": {
   "display_name": "Python 3 (ipykernel)",
   "language": "python",
   "name": "python3"
  },
  "language_info": {
   "codemirror_mode": {
    "name": "ipython",
    "version": 3
   },
   "file_extension": ".py",
   "mimetype": "text/x-python",
   "name": "python",
   "nbconvert_exporter": "python",
   "pygments_lexer": "ipython3",
   "version": "3.10.9"
  }
 },
 "nbformat": 4,
 "nbformat_minor": 5
}
